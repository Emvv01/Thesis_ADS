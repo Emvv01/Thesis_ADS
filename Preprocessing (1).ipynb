{
  "nbformat": 4,
  "nbformat_minor": 0,
  "metadata": {
    "colab": {
      "provenance": []
    },
    "kernelspec": {
      "name": "python3",
      "display_name": "Python 3"
    },
    "language_info": {
      "name": "python"
    }
  },
  "cells": [
    {
      "cell_type": "markdown",
      "source": [
        "# Import packages and libraries"
      ],
      "metadata": {
        "id": "kASvpielhpzS"
      }
    },
    {
      "cell_type": "code",
      "execution_count": 1,
      "metadata": {
        "colab": {
          "base_uri": "https://localhost:8080/"
        },
        "id": "pMlMEDRLhjw-",
        "outputId": "713b7aef-0f05-479c-f9be-6b3d1d0a8dc4"
      },
      "outputs": [
        {
          "output_type": "stream",
          "name": "stdout",
          "text": [
            "Collecting emoji\n",
            "  Downloading emoji-2.6.0.tar.gz (356 kB)\n",
            "\u001b[?25l     \u001b[90m━━━━━━━━━━━━━━━━━━━━━━━━━━━━━━━━━━━━━━━━\u001b[0m \u001b[32m0.0/356.6 kB\u001b[0m \u001b[31m?\u001b[0m eta \u001b[36m-:--:--\u001b[0m\r\u001b[2K     \u001b[91m━━━━━━━━━━━━━━━━━━━\u001b[0m\u001b[90m╺\u001b[0m\u001b[90m━━━━━━━━━━━━━━━━━━━\u001b[0m \u001b[32m174.1/356.6 kB\u001b[0m \u001b[31m5.0 MB/s\u001b[0m eta \u001b[36m0:00:01\u001b[0m\r\u001b[2K     \u001b[90m━━━━━━━━━━━━━━━━━━━━━━━━━━━━━━━━━━━━━━━\u001b[0m \u001b[32m356.6/356.6 kB\u001b[0m \u001b[31m6.2 MB/s\u001b[0m eta \u001b[36m0:00:00\u001b[0m\n",
            "\u001b[?25h  Preparing metadata (setup.py) ... \u001b[?25l\u001b[?25hdone\n",
            "Building wheels for collected packages: emoji\n",
            "  Building wheel for emoji (setup.py) ... \u001b[?25l\u001b[?25hdone\n",
            "  Created wheel for emoji: filename=emoji-2.6.0-py2.py3-none-any.whl size=351311 sha256=68d131752d29a3855439868fec4bbb7a66f435bcc276da1d507548804ce6bb86\n",
            "  Stored in directory: /root/.cache/pip/wheels/ea/0b/64/114bc939d0083621aa41521e21be246c888260b8aa21e6c1ad\n",
            "Successfully built emoji\n",
            "Installing collected packages: emoji\n",
            "Successfully installed emoji-2.6.0\n",
            "Requirement already satisfied: spacy in /usr/local/lib/python3.10/dist-packages (3.5.3)\n",
            "Requirement already satisfied: spacy-legacy<3.1.0,>=3.0.11 in /usr/local/lib/python3.10/dist-packages (from spacy) (3.0.12)\n",
            "Requirement already satisfied: spacy-loggers<2.0.0,>=1.0.0 in /usr/local/lib/python3.10/dist-packages (from spacy) (1.0.4)\n",
            "Requirement already satisfied: murmurhash<1.1.0,>=0.28.0 in /usr/local/lib/python3.10/dist-packages (from spacy) (1.0.9)\n",
            "Requirement already satisfied: cymem<2.1.0,>=2.0.2 in /usr/local/lib/python3.10/dist-packages (from spacy) (2.0.7)\n",
            "Requirement already satisfied: preshed<3.1.0,>=3.0.2 in /usr/local/lib/python3.10/dist-packages (from spacy) (3.0.8)\n",
            "Requirement already satisfied: thinc<8.2.0,>=8.1.8 in /usr/local/lib/python3.10/dist-packages (from spacy) (8.1.10)\n",
            "Requirement already satisfied: wasabi<1.2.0,>=0.9.1 in /usr/local/lib/python3.10/dist-packages (from spacy) (1.1.2)\n",
            "Requirement already satisfied: srsly<3.0.0,>=2.4.3 in /usr/local/lib/python3.10/dist-packages (from spacy) (2.4.6)\n",
            "Requirement already satisfied: catalogue<2.1.0,>=2.0.6 in /usr/local/lib/python3.10/dist-packages (from spacy) (2.0.8)\n",
            "Requirement already satisfied: typer<0.8.0,>=0.3.0 in /usr/local/lib/python3.10/dist-packages (from spacy) (0.7.0)\n",
            "Requirement already satisfied: pathy>=0.10.0 in /usr/local/lib/python3.10/dist-packages (from spacy) (0.10.2)\n",
            "Requirement already satisfied: smart-open<7.0.0,>=5.2.1 in /usr/local/lib/python3.10/dist-packages (from spacy) (6.3.0)\n",
            "Requirement already satisfied: tqdm<5.0.0,>=4.38.0 in /usr/local/lib/python3.10/dist-packages (from spacy) (4.65.0)\n",
            "Requirement already satisfied: numpy>=1.15.0 in /usr/local/lib/python3.10/dist-packages (from spacy) (1.22.4)\n",
            "Requirement already satisfied: requests<3.0.0,>=2.13.0 in /usr/local/lib/python3.10/dist-packages (from spacy) (2.27.1)\n",
            "Requirement already satisfied: pydantic!=1.8,!=1.8.1,<1.11.0,>=1.7.4 in /usr/local/lib/python3.10/dist-packages (from spacy) (1.10.9)\n",
            "Requirement already satisfied: jinja2 in /usr/local/lib/python3.10/dist-packages (from spacy) (3.1.2)\n",
            "Requirement already satisfied: setuptools in /usr/local/lib/python3.10/dist-packages (from spacy) (67.7.2)\n",
            "Requirement already satisfied: packaging>=20.0 in /usr/local/lib/python3.10/dist-packages (from spacy) (23.1)\n",
            "Requirement already satisfied: langcodes<4.0.0,>=3.2.0 in /usr/local/lib/python3.10/dist-packages (from spacy) (3.3.0)\n",
            "Requirement already satisfied: typing-extensions>=4.2.0 in /usr/local/lib/python3.10/dist-packages (from pydantic!=1.8,!=1.8.1,<1.11.0,>=1.7.4->spacy) (4.6.3)\n",
            "Requirement already satisfied: urllib3<1.27,>=1.21.1 in /usr/local/lib/python3.10/dist-packages (from requests<3.0.0,>=2.13.0->spacy) (1.26.16)\n",
            "Requirement already satisfied: certifi>=2017.4.17 in /usr/local/lib/python3.10/dist-packages (from requests<3.0.0,>=2.13.0->spacy) (2023.5.7)\n",
            "Requirement already satisfied: charset-normalizer~=2.0.0 in /usr/local/lib/python3.10/dist-packages (from requests<3.0.0,>=2.13.0->spacy) (2.0.12)\n",
            "Requirement already satisfied: idna<4,>=2.5 in /usr/local/lib/python3.10/dist-packages (from requests<3.0.0,>=2.13.0->spacy) (3.4)\n",
            "Requirement already satisfied: blis<0.8.0,>=0.7.8 in /usr/local/lib/python3.10/dist-packages (from thinc<8.2.0,>=8.1.8->spacy) (0.7.9)\n",
            "Requirement already satisfied: confection<1.0.0,>=0.0.1 in /usr/local/lib/python3.10/dist-packages (from thinc<8.2.0,>=8.1.8->spacy) (0.0.4)\n",
            "Requirement already satisfied: click<9.0.0,>=7.1.1 in /usr/local/lib/python3.10/dist-packages (from typer<0.8.0,>=0.3.0->spacy) (8.1.3)\n",
            "Requirement already satisfied: MarkupSafe>=2.0 in /usr/local/lib/python3.10/dist-packages (from jinja2->spacy) (2.1.3)\n",
            "2023-07-05 19:38:24.716683: I tensorflow/core/platform/cpu_feature_guard.cc:182] This TensorFlow binary is optimized to use available CPU instructions in performance-critical operations.\n",
            "To enable the following instructions: AVX2 FMA, in other operations, rebuild TensorFlow with the appropriate compiler flags.\n",
            "2023-07-05 19:38:26.225120: W tensorflow/compiler/tf2tensorrt/utils/py_utils.cc:38] TF-TRT Warning: Could not find TensorRT\n",
            "Collecting nl-core-news-sm==3.5.0\n",
            "  Downloading https://github.com/explosion/spacy-models/releases/download/nl_core_news_sm-3.5.0/nl_core_news_sm-3.5.0-py3-none-any.whl (12.8 MB)\n",
            "\u001b[2K     \u001b[90m━━━━━━━━━━━━━━━━━━━━━━━━━━━━━━━━━━━━━━━━\u001b[0m \u001b[32m12.8/12.8 MB\u001b[0m \u001b[31m34.2 MB/s\u001b[0m eta \u001b[36m0:00:00\u001b[0m\n",
            "\u001b[?25hRequirement already satisfied: spacy<3.6.0,>=3.5.0 in /usr/local/lib/python3.10/dist-packages (from nl-core-news-sm==3.5.0) (3.5.3)\n",
            "Requirement already satisfied: spacy-legacy<3.1.0,>=3.0.11 in /usr/local/lib/python3.10/dist-packages (from spacy<3.6.0,>=3.5.0->nl-core-news-sm==3.5.0) (3.0.12)\n",
            "Requirement already satisfied: spacy-loggers<2.0.0,>=1.0.0 in /usr/local/lib/python3.10/dist-packages (from spacy<3.6.0,>=3.5.0->nl-core-news-sm==3.5.0) (1.0.4)\n",
            "Requirement already satisfied: murmurhash<1.1.0,>=0.28.0 in /usr/local/lib/python3.10/dist-packages (from spacy<3.6.0,>=3.5.0->nl-core-news-sm==3.5.0) (1.0.9)\n",
            "Requirement already satisfied: cymem<2.1.0,>=2.0.2 in /usr/local/lib/python3.10/dist-packages (from spacy<3.6.0,>=3.5.0->nl-core-news-sm==3.5.0) (2.0.7)\n",
            "Requirement already satisfied: preshed<3.1.0,>=3.0.2 in /usr/local/lib/python3.10/dist-packages (from spacy<3.6.0,>=3.5.0->nl-core-news-sm==3.5.0) (3.0.8)\n",
            "Requirement already satisfied: thinc<8.2.0,>=8.1.8 in /usr/local/lib/python3.10/dist-packages (from spacy<3.6.0,>=3.5.0->nl-core-news-sm==3.5.0) (8.1.10)\n",
            "Requirement already satisfied: wasabi<1.2.0,>=0.9.1 in /usr/local/lib/python3.10/dist-packages (from spacy<3.6.0,>=3.5.0->nl-core-news-sm==3.5.0) (1.1.2)\n",
            "Requirement already satisfied: srsly<3.0.0,>=2.4.3 in /usr/local/lib/python3.10/dist-packages (from spacy<3.6.0,>=3.5.0->nl-core-news-sm==3.5.0) (2.4.6)\n",
            "Requirement already satisfied: catalogue<2.1.0,>=2.0.6 in /usr/local/lib/python3.10/dist-packages (from spacy<3.6.0,>=3.5.0->nl-core-news-sm==3.5.0) (2.0.8)\n",
            "Requirement already satisfied: typer<0.8.0,>=0.3.0 in /usr/local/lib/python3.10/dist-packages (from spacy<3.6.0,>=3.5.0->nl-core-news-sm==3.5.0) (0.7.0)\n",
            "Requirement already satisfied: pathy>=0.10.0 in /usr/local/lib/python3.10/dist-packages (from spacy<3.6.0,>=3.5.0->nl-core-news-sm==3.5.0) (0.10.2)\n",
            "Requirement already satisfied: smart-open<7.0.0,>=5.2.1 in /usr/local/lib/python3.10/dist-packages (from spacy<3.6.0,>=3.5.0->nl-core-news-sm==3.5.0) (6.3.0)\n",
            "Requirement already satisfied: tqdm<5.0.0,>=4.38.0 in /usr/local/lib/python3.10/dist-packages (from spacy<3.6.0,>=3.5.0->nl-core-news-sm==3.5.0) (4.65.0)\n",
            "Requirement already satisfied: numpy>=1.15.0 in /usr/local/lib/python3.10/dist-packages (from spacy<3.6.0,>=3.5.0->nl-core-news-sm==3.5.0) (1.22.4)\n",
            "Requirement already satisfied: requests<3.0.0,>=2.13.0 in /usr/local/lib/python3.10/dist-packages (from spacy<3.6.0,>=3.5.0->nl-core-news-sm==3.5.0) (2.27.1)\n",
            "Requirement already satisfied: pydantic!=1.8,!=1.8.1,<1.11.0,>=1.7.4 in /usr/local/lib/python3.10/dist-packages (from spacy<3.6.0,>=3.5.0->nl-core-news-sm==3.5.0) (1.10.9)\n",
            "Requirement already satisfied: jinja2 in /usr/local/lib/python3.10/dist-packages (from spacy<3.6.0,>=3.5.0->nl-core-news-sm==3.5.0) (3.1.2)\n",
            "Requirement already satisfied: setuptools in /usr/local/lib/python3.10/dist-packages (from spacy<3.6.0,>=3.5.0->nl-core-news-sm==3.5.0) (67.7.2)\n",
            "Requirement already satisfied: packaging>=20.0 in /usr/local/lib/python3.10/dist-packages (from spacy<3.6.0,>=3.5.0->nl-core-news-sm==3.5.0) (23.1)\n",
            "Requirement already satisfied: langcodes<4.0.0,>=3.2.0 in /usr/local/lib/python3.10/dist-packages (from spacy<3.6.0,>=3.5.0->nl-core-news-sm==3.5.0) (3.3.0)\n",
            "Requirement already satisfied: typing-extensions>=4.2.0 in /usr/local/lib/python3.10/dist-packages (from pydantic!=1.8,!=1.8.1,<1.11.0,>=1.7.4->spacy<3.6.0,>=3.5.0->nl-core-news-sm==3.5.0) (4.6.3)\n",
            "Requirement already satisfied: urllib3<1.27,>=1.21.1 in /usr/local/lib/python3.10/dist-packages (from requests<3.0.0,>=2.13.0->spacy<3.6.0,>=3.5.0->nl-core-news-sm==3.5.0) (1.26.16)\n",
            "Requirement already satisfied: certifi>=2017.4.17 in /usr/local/lib/python3.10/dist-packages (from requests<3.0.0,>=2.13.0->spacy<3.6.0,>=3.5.0->nl-core-news-sm==3.5.0) (2023.5.7)\n",
            "Requirement already satisfied: charset-normalizer~=2.0.0 in /usr/local/lib/python3.10/dist-packages (from requests<3.0.0,>=2.13.0->spacy<3.6.0,>=3.5.0->nl-core-news-sm==3.5.0) (2.0.12)\n",
            "Requirement already satisfied: idna<4,>=2.5 in /usr/local/lib/python3.10/dist-packages (from requests<3.0.0,>=2.13.0->spacy<3.6.0,>=3.5.0->nl-core-news-sm==3.5.0) (3.4)\n",
            "Requirement already satisfied: blis<0.8.0,>=0.7.8 in /usr/local/lib/python3.10/dist-packages (from thinc<8.2.0,>=8.1.8->spacy<3.6.0,>=3.5.0->nl-core-news-sm==3.5.0) (0.7.9)\n",
            "Requirement already satisfied: confection<1.0.0,>=0.0.1 in /usr/local/lib/python3.10/dist-packages (from thinc<8.2.0,>=8.1.8->spacy<3.6.0,>=3.5.0->nl-core-news-sm==3.5.0) (0.0.4)\n",
            "Requirement already satisfied: click<9.0.0,>=7.1.1 in /usr/local/lib/python3.10/dist-packages (from typer<0.8.0,>=0.3.0->spacy<3.6.0,>=3.5.0->nl-core-news-sm==3.5.0) (8.1.3)\n",
            "Requirement already satisfied: MarkupSafe>=2.0 in /usr/local/lib/python3.10/dist-packages (from jinja2->spacy<3.6.0,>=3.5.0->nl-core-news-sm==3.5.0) (2.1.3)\n",
            "Installing collected packages: nl-core-news-sm\n",
            "Successfully installed nl-core-news-sm-3.5.0\n",
            "\u001b[38;5;2m✔ Download and installation successful\u001b[0m\n",
            "You can now load the package via spacy.load('nl_core_news_sm')\n",
            "Collecting stopwordsiso\n",
            "  Downloading stopwordsiso-0.6.1-py3-none-any.whl (73 kB)\n",
            "\u001b[2K     \u001b[90m━━━━━━━━━━━━━━━━━━━━━━━━━━━━━━━━━━━━━━━━\u001b[0m \u001b[32m73.5/73.5 kB\u001b[0m \u001b[31m2.7 MB/s\u001b[0m eta \u001b[36m0:00:00\u001b[0m\n",
            "\u001b[?25hInstalling collected packages: stopwordsiso\n",
            "Successfully installed stopwordsiso-0.6.1\n",
            "Collecting langdetect\n",
            "  Downloading langdetect-1.0.9.tar.gz (981 kB)\n",
            "\u001b[2K     \u001b[90m━━━━━━━━━━━━━━━━━━━━━━━━━━━━━━━━━━━━━━\u001b[0m \u001b[32m981.5/981.5 kB\u001b[0m \u001b[31m14.8 MB/s\u001b[0m eta \u001b[36m0:00:00\u001b[0m\n",
            "\u001b[?25h  Preparing metadata (setup.py) ... \u001b[?25l\u001b[?25hdone\n",
            "Requirement already satisfied: six in /usr/local/lib/python3.10/dist-packages (from langdetect) (1.16.0)\n",
            "Building wheels for collected packages: langdetect\n",
            "  Building wheel for langdetect (setup.py) ... \u001b[?25l\u001b[?25hdone\n",
            "  Created wheel for langdetect: filename=langdetect-1.0.9-py3-none-any.whl size=993224 sha256=3f188225c0c2cc35d4d4cf91180062cb1de35be1ca26a494b5590578f5288625\n",
            "  Stored in directory: /root/.cache/pip/wheels/95/03/7d/59ea870c70ce4e5a370638b5462a7711ab78fba2f655d05106\n",
            "Successfully built langdetect\n",
            "Installing collected packages: langdetect\n",
            "Successfully installed langdetect-1.0.9\n"
          ]
        },
        {
          "output_type": "stream",
          "name": "stderr",
          "text": [
            "[nltk_data] Downloading package wordnet to /root/nltk_data...\n",
            "[nltk_data] Downloading package omw-1.4 to /root/nltk_data...\n",
            "[nltk_data] Error loading pos_tag: Package 'pos_tag' not found in\n",
            "[nltk_data]     index\n",
            "[nltk_data] Downloading package punkt to /root/nltk_data...\n",
            "[nltk_data]   Unzipping tokenizers/punkt.zip.\n",
            "[nltk_data] Downloading package averaged_perceptron_tagger to\n",
            "[nltk_data]     /root/nltk_data...\n",
            "[nltk_data]   Unzipping taggers/averaged_perceptron_tagger.zip.\n",
            "[nltk_data] Downloading package stopwords to /root/nltk_data...\n",
            "[nltk_data]   Unzipping corpora/stopwords.zip.\n"
          ]
        }
      ],
      "source": [
        "!pip install emoji\n",
        "!pip install spacy\n",
        "!python -m spacy download nl_core_news_sm\n",
        "!pip install stopwordsiso\n",
        "!pip install langdetect\n",
        "\n",
        "import string\n",
        "import random\n",
        "import numpy as np\n",
        "import pandas as pd\n",
        "import seaborn as sns\n",
        "import matplotlib.pyplot as plt\n",
        "import matplotlib.ticker as ticker\n",
        "from collections import Counter\n",
        "\n",
        "import nltk\n",
        "from nltk.tokenize import word_tokenize\n",
        "from nltk.corpus import stopwords\n",
        "from nltk.stem import WordNetLemmatizer\n",
        "from nltk.tag import pos_tag\n",
        "from nltk.corpus import wordnet\n",
        "nltk.download('wordnet')\n",
        "nltk.download('omw-1.4')\n",
        "nltk.download('pos_tag')\n",
        "nltk.download('punkt')\n",
        "nltk.download('averaged_perceptron_tagger')\n",
        "nltk.download('stopwords')\n",
        "\n",
        "import spacy\n",
        "from spacy.symbols import nsubj, VERB, ADJ\n",
        "nlp = spacy.load(\"nl_core_news_sm\")\n",
        "\n",
        "import gensim\n",
        "import gensim.corpora as corpora\n",
        "from gensim.utils import simple_preprocess\n",
        "from gensim.models import CoherenceModel, LdaModel, LsiModel, HdpModel\n",
        "from gensim import corpora, models\n",
        "from gensim.models import Phrases\n",
        "from gensim.corpora import Dictionary\n",
        "\n",
        "from sklearn.feature_extraction.text import TfidfVectorizer, CountVectorizer, TfidfTransformer\n",
        "from sklearn.model_selection import train_test_split, cross_val_score\n",
        "from sklearn.linear_model import LogisticRegressionCV, LogisticRegression\n",
        "from sklearn.ensemble import RandomForestClassifier\n",
        "from sklearn.metrics import classification_report, accuracy_score\n",
        "from sklearn.pipeline import make_pipeline\n",
        "from sklearn import svm\n",
        "from sklearn.svm import LinearSVC\n",
        "from sklearn.cluster import KMeans\n",
        "from sklearn import cluster\n",
        "\n",
        "from stopwordsiso import stopwords\n",
        "\n",
        "from langdetect import detect\n",
        "\n",
        "import emoji\n",
        "import pandas as pd\n",
        "\n",
        "from wordcloud import WordCloud\n",
        "\n",
        "import matplotlib.pyplot as plt\n",
        "import numpy as np\n",
        "from pprint import pprint"
      ]
    },
    {
      "cell_type": "markdown",
      "source": [
        "# Read in the data"
      ],
      "metadata": {
        "id": "RTnPClMmkCLO"
      }
    },
    {
      "cell_type": "code",
      "source": [
        "# Read the Excel file\n",
        "df = pd.read_excel(\"/content/xxxxx.xlsx\")"
      ],
      "metadata": {
        "id": "k4z5tJ43iEJN"
      },
      "execution_count": 4,
      "outputs": []
    },
    {
      "cell_type": "markdown",
      "source": [
        "#Exploration of the data"
      ],
      "metadata": {
        "id": "9GX2lGy6iGCg"
      }
    },
    {
      "cell_type": "code",
      "source": [
        "# Calculate the frequency of words\n",
        "word_frequency = {}\n",
        "\n",
        "# Iterate over each row in the 'Antwoord' column\n",
        "for row in df['Antwoord']:\n",
        "    # Check if the row is not NaN\n",
        "    if isinstance(row, str):\n",
        "        # Iterate over each word in the row\n",
        "        for word in row.split():\n",
        "            # Update the frequency count for the word\n",
        "            if word in word_frequency:\n",
        "                word_frequency[word] += 1\n",
        "            else:\n",
        "                word_frequency[word] = 1\n",
        "\n",
        "# Create lists to store the words and their frequencies\n",
        "words = []\n",
        "frequencies = []\n",
        "\n",
        "# Sort the word frequencies in descending order\n",
        "sorted_word_frequency = sorted(word_frequency.items(), key=lambda x: x[1], reverse=True)\n",
        "\n",
        "# Extract the top 20 sorted words and frequencies into separate lists\n",
        "top_20_words = sorted_word_frequency[:20]\n",
        "for word, frequency in top_20_words:\n",
        "    words.append(word)\n",
        "    frequencies.append(frequency)\n",
        "\n",
        "# Increase the figure size\n",
        "plt.figure(figsize=(12, 6))\n",
        "\n",
        "# Create a bar chart for the top 20 words\n",
        "plt.bar(words, frequencies)\n",
        "plt.xlabel('Words')\n",
        "plt.ylabel('Frequency')\n",
        "plt.xticks(rotation='vertical')\n",
        "plt.title('Occurrence of the top 20 words before cleaning')\n",
        "plt.tight_layout()\n",
        "plt.show()"
      ],
      "metadata": {
        "colab": {
          "base_uri": "https://localhost:8080/",
          "height": 522
        },
        "id": "GzQ3v4nQh-ZK",
        "outputId": "a5b00ad7-3ee3-4d64-90c5-3b1a3398b5be"
      },
      "execution_count": 5,
      "outputs": [
        {
          "output_type": "display_data",
          "data": {
            "text/plain": [
              "<Figure size 1200x600 with 1 Axes>"
            ],
            "image/png": "[encoded data removed]"
          },
          "metadata": {}
        }
      ]
    },
    {
      "cell_type": "code",
      "source": [
        "# Print maximum lenght of answers\n",
        "max_length = df[\"Antwoord\"].str.len().max()\n",
        "print(\"Maximum length of 'Antwoord' column:\", max_length)\n",
        "\n",
        "# Print mean lenght of answers\n",
        "mean_length = df[\"Antwoord\"].str.len().mean()\n",
        "print(\"Mean length of 'Antwoord' column:\", mean_length)"
      ],
      "metadata": {
        "colab": {
          "base_uri": "https://localhost:8080/"
        },
        "id": "VTuN0PxSiNxW",
        "outputId": "eafa9f71-6923-4b8c-9709-5fa8609aa4e7"
      },
      "execution_count": 6,
      "outputs": [
        {
          "output_type": "stream",
          "name": "stdout",
          "text": [
            "Maximum length of 'Antwoord' column: 2810.0\n",
            "Mean length of 'Antwoord' column: 158.02766179540708\n"
          ]
        }
      ]
    },
    {
      "cell_type": "markdown",
      "source": [
        "#Cleaning of the data"
      ],
      "metadata": {
        "id": "NapTATE9iZIV"
      }
    },
    {
      "cell_type": "markdown",
      "source": [
        "## Remove non-Dutchlanguages"
      ],
      "metadata": {
        "id": "b2vcraYdo6rC"
      }
    },
    {
      "cell_type": "code",
      "source": [
        "# Define the column to check the language\n",
        "column_to_check = \"Antwoord\"\n",
        "\n",
        "# Iterate over the rows and detect the language in the specified column\n",
        "rows_to_drop = []\n",
        "for index, row in df.iterrows():\n",
        "    try:\n",
        "        text = str(row[column_to_check])\n",
        "        language = detect(text)\n",
        "        if language != 'nl':\n",
        "            rows_to_drop.append(index)\n",
        "    except:\n",
        "        continue\n",
        "\n",
        "# Drop the rows that have non-Dutch language\n",
        "df.drop(rows_to_drop, axis=0, inplace=True)\n",
        "\n",
        "# Reset the index of the DataFrame\n",
        "df.reset_index(drop=True, inplace=True)"
      ],
      "metadata": {
        "id": "9eV6NoHziR29"
      },
      "execution_count": 7,
      "outputs": []
    },
    {
      "cell_type": "code",
      "source": [
        "# Convert the 'Antwoord' column to string type\n",
        "df[\"Antwoord\"] = df[\"Antwoord\"].astype(str)\n",
        "\n",
        "# Tokenize the text into individual words for each row\n",
        "tokens = df['Antwoord'].apply(nltk.word_tokenize)\n",
        "\n",
        "# Initializes the WordNet Lemmatizer from the NLTK library\n",
        "lemmatizer = nltk.stem.WordNetLemmatizer()\n",
        "\n",
        "# Lemmatize each word in the tokens for each row\n",
        "df['lemmatized_words'] = tokens.apply(lambda x: [lemmatizer.lemmatize(word) for word in x])\n",
        "\n",
        "# Convert the lists of words to lowercase\n",
        "df['cleanned_text'] = df['lemmatized_words'].apply(lambda x: [word.lower() for word in x])\n",
        "\n",
        "# Removing digits\n",
        "df['cleanned_text'] = df['cleanned_text'].apply(lambda x: [word for word in x if not word.isdigit()])\n",
        "\n",
        "# Removing punctuations\n",
        "df['cleanned_text'] = df['cleanned_text'].apply(lambda x: [word.translate(str.maketrans('', '', string.punctuation)) for word in x])\n",
        "\n",
        "# Remove emojis using the emoji library\n",
        "df['cleanned_text'] = df['cleanned_text'].apply(lambda x: [emoji.demojize(word, delimiters=(\":\", \": \")) for word in x])\n",
        "\n",
        "# Remove emoji descriptions\n",
        "df['cleanned_text'] = df['cleanned_text'].apply(lambda x: [word for word in x if not word.startswith(':')])\n",
        "\n",
        "# Remove words with less than 3 letters\n",
        "df['cleanned_text'] = df['cleanned_text'].apply(lambda x: [word for word in x if len(word) >= 3])"
      ],
      "metadata": {
        "id": "u6HmCQ-rk_-_"
      },
      "execution_count": 12,
      "outputs": []
    },
    {
      "cell_type": "markdown",
      "source": [
        "## Check extra stopwords"
      ],
      "metadata": {
        "id": "rFgi1I5NlWQB"
      }
    },
    {
      "cell_type": "code",
      "source": [
        "# Replace empty strings with 'nan' in the 'cleanned_text' column\n",
        "df['cleanned_text'] = df['cleanned_text'].apply(lambda row: ['nan'] if len(row) == 0 else row)\n",
        "\n",
        "# Count occurrences of \"nee\",\"niks\" \"nvt\" in the 'cleanned_text' column\n",
        "nee_count = df['cleanned_text'].apply(lambda x: x.count('nee')).sum()\n",
        "niks_count = df['cleanned_text'].apply(lambda x: x.count('niks')).sum()\n",
        "nvt_count = df['cleanned_text'].apply(lambda x: x.count('nvt')).sum()\n",
        "nan_count = df['cleanned_text'].apply(lambda x: x.count('nan')).sum()\n",
        "bedrijf_count = df['cleanned_text'].apply(lambda x: x.count('bedrijf')).sum()\n",
        "neen_count = df['cleanned_text'].apply(lambda x: x.count('neen')).sum()\n",
        "\n",
        "# Print the counts\n",
        "print(\"Count of 'nee':\", nee_count)\n",
        "print(\"Count of 'niks':\", niks_count)\n",
        "print(\"Count of 'nvt':\", nvt_count)\n",
        "print(\"Count of 'nan':\", nan_count)\n",
        "print(\"Count of 'bedrijf':\", bedrijf_count)\n",
        "print(\"Count of 'neen':\", neen_count)\n",
        "print(\"Total:\", neen_count+niks_count+nvt_count+nan_count)\n",
        "\n",
        "# Create a bar chart\n",
        "labels = ['nee', 'niks', 'nvt', 'nan', 'bedrijf','neen']\n",
        "counts = [nee_count, niks_count, nvt_count, nan_count, bedrijf_count, neen_count]\n",
        "plt.bar(labels, counts)\n",
        "plt.xlabel('Categories')\n",
        "plt.ylabel('Counts')\n",
        "plt.title('Occurrences in text')\n",
        "\n",
        "# Show the bar chart\n",
        "plt.show()"
      ],
      "metadata": {
        "colab": {
          "base_uri": "https://localhost:8080/",
          "height": 594
        },
        "id": "Q7tNIj9BikSL",
        "outputId": "52ea335c-1fee-431a-93f2-9e87ac14180f"
      },
      "execution_count": 13,
      "outputs": [
        {
          "output_type": "stream",
          "name": "stdout",
          "text": [
            "Count of 'nee': 90\n",
            "Count of 'niks': 10\n",
            "Count of 'nvt': 1\n",
            "Count of 'nan': 41\n",
            "Count of 'bedrijf': 342\n",
            "Count of 'neen': 30\n",
            "Total: 82\n"
          ]
        },
        {
          "output_type": "display_data",
          "data": {
            "text/plain": [
              "<Figure size 640x480 with 1 Axes>"
            ],
            "image/png": "[encoded data removed]"
          },
          "metadata": {}
        }
      ]
    },
    {
      "cell_type": "markdown",
      "source": [
        "## Remove extra stopword"
      ],
      "metadata": {
        "id": "xB3xb5NEpFyM"
      }
    },
    {
      "cell_type": "code",
      "source": [
        "from stopwordsiso import stopwords\n",
        "\n",
        "# Define additional stopwords to be added\n",
        "additional_stopwords = ['nee', 'niks', 'nvt', 'nan', 'bedrijf', 'neen']\n",
        "\n",
        "# Initialize the stopwordsiso for Dutch\n",
        "stopwords_dutch_extended = stopwords(\"nl\")\n",
        "\n",
        "# Extend the stopwords list\n",
        "stopwords_dutch_extended.update(additional_stopwords)\n",
        "\n",
        "# Remove stopwords\n",
        "df['cleanned_text'] = df['cleanned_text'].apply(lambda x: [word for word in x if word not in stopwords_dutch_extended])\n",
        "\n",
        "# Strip whitespaces\n",
        "df['cleanned_text'] = df['cleanned_text'].apply(lambda x: [word.strip() for word in x])\n",
        "\n",
        "df.head(10)"
      ],
      "metadata": {
        "colab": {
          "base_uri": "https://localhost:8080/",
          "height": 581
        },
        "id": "36eoseCulVpQ",
        "outputId": "47a20a13-7654-410a-a847-c365dd307fee"
      },
      "execution_count": 14,
      "outputs": [
        {
          "output_type": "execute_result",
          "data": {
            "text/plain": [
              "                                               Vraag  \\\n",
              "0  Zijn er andere thema's en onderwerpen waarover...   \n",
              "1  Zijn er andere thema's en onderwerpen waarover...   \n",
              "2  Zijn er andere thema's en onderwerpen waarover...   \n",
              "3  Zijn er andere thema's en onderwerpen waarover...   \n",
              "4  Zijn er andere thema's en onderwerpen waarover...   \n",
              "5  Zijn er andere thema's en onderwerpen waarover...   \n",
              "6  Zijn er andere thema's en onderwerpen waarover...   \n",
              "7  Zijn er andere thema's en onderwerpen waarover...   \n",
              "8  Zijn er andere thema's en onderwerpen waarover...   \n",
              "9  Zijn er andere thema's en onderwerpen waarover...   \n",
              "\n",
              "                                            Antwoord  \\\n",
              "0           Nee, informatievoorziening prima op orde   \n",
              "1                                               Neen   \n",
              "2  Aanbestedingen en onderhoudscontracten. Het pe...   \n",
              "3                                 geen andere them's   \n",
              "4                                                Nee   \n",
              "5                 Geen andere thema's en onderwerpen   \n",
              "6                                       Werkvoorraad   \n",
              "7             Waar staat *Bedrijf* over 2 of 3 jaar?   \n",
              "8                                                Nee   \n",
              "9  Ik krijg voldoende informatie om mijn werk opt...   \n",
              "\n",
              "                                    lemmatized_words  \\\n",
              "0   [Nee, ,, informatievoorziening, prima, op, orde]   \n",
              "1                                             [Neen]   \n",
              "2  [Aanbestedingen, en, onderhoudscontracten, ., ...   \n",
              "3                           [geen, andere, them, 's]   \n",
              "4                                              [Nee]   \n",
              "5         [Geen, andere, thema, 's, en, onderwerpen]   \n",
              "6                                     [Werkvoorraad]   \n",
              "7  [Waar, staat, *, Bedrijf, *, over, 2, of, 3, j...   \n",
              "8                                              [Nee]   \n",
              "9  [Ik, krijg, voldoende, informatie, om, mijn, w...   \n",
              "\n",
              "                                       cleanned_text  \n",
              "0               [informatievoorziening, prima, orde]  \n",
              "1                                                 []  \n",
              "2  [aanbestedingen, onderhoudscontracten, persone...  \n",
              "3                                             [them]  \n",
              "4                                                 []  \n",
              "5                               [thema, onderwerpen]  \n",
              "6                                     [werkvoorraad]  \n",
              "7                                      [staat, jaar]  \n",
              "8                                                 []  \n",
              "9  [krijg, voldoende, informatie, werk, optimaal,...  "
            ],
            "text/html": [
              "\n",
              "  <div id=\"df-20fe94bc-affa-4ebf-a6d4-91692d476a0a\">\n",
              "    <div class=\"colab-df-container\">\n",
              "      <div>\n",
              "<style scoped>\n",
              "    .dataframe tbody tr th:only-of-type {\n",
              "        vertical-align: middle;\n",
              "    }\n",
              "\n",
              "    .dataframe tbody tr th {\n",
              "        vertical-align: top;\n",
              "    }\n",
              "\n",
              "    .dataframe thead th {\n",
              "        text-align: right;\n",
              "    }\n",
              "</style>\n",
              "<table border=\"1\" class=\"dataframe\">\n",
              "  <thead>\n",
              "    <tr style=\"text-align: right;\">\n",
              "      <th></th>\n",
              "      <th>Vraag</th>\n",
              "      <th>Antwoord</th>\n",
              "      <th>lemmatized_words</th>\n",
              "      <th>cleanned_text</th>\n",
              "    </tr>\n",
              "  </thead>\n",
              "  <tbody>\n",
              "    <tr>\n",
              "      <th>0</th>\n",
              "      <td>Zijn er andere thema's en onderwerpen waarover...</td>\n",
              "      <td>Nee, informatievoorziening prima op orde</td>\n",
              "      <td>[Nee, ,, informatievoorziening, prima, op, orde]</td>\n",
              "      <td>[informatievoorziening, prima, orde]</td>\n",
              "    </tr>\n",
              "    <tr>\n",
              "      <th>1</th>\n",
              "      <td>Zijn er andere thema's en onderwerpen waarover...</td>\n",
              "      <td>Neen</td>\n",
              "      <td>[Neen]</td>\n",
              "      <td>[]</td>\n",
              "    </tr>\n",
              "    <tr>\n",
              "      <th>2</th>\n",
              "      <td>Zijn er andere thema's en onderwerpen waarover...</td>\n",
              "      <td>Aanbestedingen en onderhoudscontracten. Het pe...</td>\n",
              "      <td>[Aanbestedingen, en, onderhoudscontracten, ., ...</td>\n",
              "      <td>[aanbestedingen, onderhoudscontracten, persone...</td>\n",
              "    </tr>\n",
              "    <tr>\n",
              "      <th>3</th>\n",
              "      <td>Zijn er andere thema's en onderwerpen waarover...</td>\n",
              "      <td>geen andere them's</td>\n",
              "      <td>[geen, andere, them, 's]</td>\n",
              "      <td>[them]</td>\n",
              "    </tr>\n",
              "    <tr>\n",
              "      <th>4</th>\n",
              "      <td>Zijn er andere thema's en onderwerpen waarover...</td>\n",
              "      <td>Nee</td>\n",
              "      <td>[Nee]</td>\n",
              "      <td>[]</td>\n",
              "    </tr>\n",
              "    <tr>\n",
              "      <th>5</th>\n",
              "      <td>Zijn er andere thema's en onderwerpen waarover...</td>\n",
              "      <td>Geen andere thema's en onderwerpen</td>\n",
              "      <td>[Geen, andere, thema, 's, en, onderwerpen]</td>\n",
              "      <td>[thema, onderwerpen]</td>\n",
              "    </tr>\n",
              "    <tr>\n",
              "      <th>6</th>\n",
              "      <td>Zijn er andere thema's en onderwerpen waarover...</td>\n",
              "      <td>Werkvoorraad</td>\n",
              "      <td>[Werkvoorraad]</td>\n",
              "      <td>[werkvoorraad]</td>\n",
              "    </tr>\n",
              "    <tr>\n",
              "      <th>7</th>\n",
              "      <td>Zijn er andere thema's en onderwerpen waarover...</td>\n",
              "      <td>Waar staat *Bedrijf* over 2 of 3 jaar?</td>\n",
              "      <td>[Waar, staat, *, Bedrijf, *, over, 2, of, 3, j...</td>\n",
              "      <td>[staat, jaar]</td>\n",
              "    </tr>\n",
              "    <tr>\n",
              "      <th>8</th>\n",
              "      <td>Zijn er andere thema's en onderwerpen waarover...</td>\n",
              "      <td>Nee</td>\n",
              "      <td>[Nee]</td>\n",
              "      <td>[]</td>\n",
              "    </tr>\n",
              "    <tr>\n",
              "      <th>9</th>\n",
              "      <td>Zijn er andere thema's en onderwerpen waarover...</td>\n",
              "      <td>Ik krijg voldoende informatie om mijn werk opt...</td>\n",
              "      <td>[Ik, krijg, voldoende, informatie, om, mijn, w...</td>\n",
              "      <td>[krijg, voldoende, informatie, werk, optimaal,...</td>\n",
              "    </tr>\n",
              "  </tbody>\n",
              "</table>\n",
              "</div>\n",
              "      <button class=\"colab-df-convert\" onclick=\"convertToInteractive('df-20fe94bc-affa-4ebf-a6d4-91692d476a0a')\"\n",
              "              title=\"Convert this dataframe to an interactive table.\"\n",
              "              style=\"display:none;\">\n",
              "        \n",
              "  <svg xmlns=\"http://www.w3.org/2000/svg\" height=\"24px\"viewBox=\"0 0 24 24\"\n",
              "       width=\"24px\">\n",
              "    <path d=\"M0 0h24v24H0V0z\" fill=\"none\"/>\n",
              "    <path d=\"M18.56 5.44l.94 2.06.94-2.06 2.06-.94-2.06-.94-.94-2.06-.94 2.06-2.06.94zm-11 1L8.5 8.5l.94-2.06 2.06-.94-2.06-.94L8.5 2.5l-.94 2.06-2.06.94zm10 10l.94 2.06.94-2.06 2.06-.94-2.06-.94-.94-2.06-.94 2.06-2.06.94z\"/><path d=\"M17.41 7.96l-1.37-1.37c-.4-.4-.92-.59-1.43-.59-.52 0-1.04.2-1.43.59L10.3 9.45l-7.72 7.72c-.78.78-.78 2.05 0 2.83L4 21.41c.39.39.9.59 1.41.59.51 0 1.02-.2 1.41-.59l7.78-7.78 2.81-2.81c.8-.78.8-2.07 0-2.86zM5.41 20L4 18.59l7.72-7.72 1.47 1.35L5.41 20z\"/>\n",
              "  </svg>\n",
              "      </button>\n",
              "      \n",
              "  <style>\n",
              "    .colab-df-container {\n",
              "      display:flex;\n",
              "      flex-wrap:wrap;\n",
              "      gap: 12px;\n",
              "    }\n",
              "\n",
              "    .colab-df-convert {\n",
              "      background-color: #E8F0FE;\n",
              "      border: none;\n",
              "      border-radius: 50%;\n",
              "      cursor: pointer;\n",
              "      display: none;\n",
              "      fill: #1967D2;\n",
              "      height: 32px;\n",
              "      padding: 0 0 0 0;\n",
              "      width: 32px;\n",
              "    }\n",
              "\n",
              "    .colab-df-convert:hover {\n",
              "      background-color: #E2EBFA;\n",
              "      box-shadow: 0px 1px 2px rgba(60, 64, 67, 0.3), 0px 1px 3px 1px rgba(60, 64, 67, 0.15);\n",
              "      fill: #174EA6;\n",
              "    }\n",
              "\n",
              "    [theme=dark] .colab-df-convert {\n",
              "      background-color: #3B4455;\n",
              "      fill: #D2E3FC;\n",
              "    }\n",
              "\n",
              "    [theme=dark] .colab-df-convert:hover {\n",
              "      background-color: #434B5C;\n",
              "      box-shadow: 0px 1px 3px 1px rgba(0, 0, 0, 0.15);\n",
              "      filter: drop-shadow(0px 1px 2px rgba(0, 0, 0, 0.3));\n",
              "      fill: #FFFFFF;\n",
              "    }\n",
              "  </style>\n",
              "\n",
              "      <script>\n",
              "        const buttonEl =\n",
              "          document.querySelector('#df-20fe94bc-affa-4ebf-a6d4-91692d476a0a button.colab-df-convert');\n",
              "        buttonEl.style.display =\n",
              "          google.colab.kernel.accessAllowed ? 'block' : 'none';\n",
              "\n",
              "        async function convertToInteractive(key) {\n",
              "          const element = document.querySelector('#df-20fe94bc-affa-4ebf-a6d4-91692d476a0a');\n",
              "          const dataTable =\n",
              "            await google.colab.kernel.invokeFunction('convertToInteractive',\n",
              "                                                     [key], {});\n",
              "          if (!dataTable) return;\n",
              "\n",
              "          const docLinkHtml = 'Like what you see? Visit the ' +\n",
              "            '<a target=\"_blank\" href=https://colab.research.google.com/notebooks/data_table.ipynb>data table notebook</a>'\n",
              "            + ' to learn more about interactive tables.';\n",
              "          element.innerHTML = '';\n",
              "          dataTable['output_type'] = 'display_data';\n",
              "          await google.colab.output.renderOutput(dataTable, element);\n",
              "          const docLink = document.createElement('div');\n",
              "          docLink.innerHTML = docLinkHtml;\n",
              "          element.appendChild(docLink);\n",
              "        }\n",
              "      </script>\n",
              "    </div>\n",
              "  </div>\n",
              "  "
            ]
          },
          "metadata": {},
          "execution_count": 14
        }
      ]
    }
  ]
}